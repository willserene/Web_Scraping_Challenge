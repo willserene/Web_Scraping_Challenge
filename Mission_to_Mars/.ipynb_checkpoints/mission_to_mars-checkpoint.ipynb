{
 "cells": [
  {
   "cell_type": "code",
   "execution_count": 37,
   "metadata": {},
   "outputs": [],
   "source": [
    "# Dependencies\n",
    "import os\n",
    "import pandas as pd\n",
    "import requests\n",
    "import time\n",
    "from splinter import Browser\n",
    "from bs4 import BeautifulSoup as bs\n",
    "from webdriver_manager.chrome import ChromeDriverManager"
   ]
  },
  {
   "cell_type": "code",
   "execution_count": 38,
   "metadata": {},
   "outputs": [],
   "source": [
    "def start_browser():\n",
    "    executable_path = {'executable_path': ChromeDriverManager().install()}\n",
    "    return Browser('chrome', **executable_path, headless=False)"
   ]
  },
  {
   "cell_type": "markdown",
   "metadata": {},
   "source": [
    "## Nasa Scrape"
   ]
  },
  {
   "cell_type": "code",
   "execution_count": 39,
   "metadata": {},
   "outputs": [
    {
     "name": "stderr",
     "output_type": "stream",
     "text": [
      "\n",
      "\n",
      "====== WebDriver manager ======\n",
      "Current google-chrome version is 91.0.4472\n",
      "Get LATEST driver version for 91.0.4472\n",
      "Driver [/Users/williamserene/.wdm/drivers/chromedriver/mac64/91.0.4472.19/chromedriver] found in cache\n"
     ]
    }
   ],
   "source": [
    "# Scrape the NASA Mars News Site and collect the latest News Title and Paragraph Text. \n",
    "browser = start_browser()\n",
    "browser.visit('https://mars.nasa.gov/news/')\n",
    "\n",
    "time.sleep(2)\n",
    "\n",
    "# Create BeautifulSoup object; parse with 'html.parser'\n",
    "# Scraping page into Soup\n",
    "html = browser.html\n",
    "soup = bs(html, \"html.parser\")\n",
    "\n",
    "# News\n",
    "news_section = soup.find_all('div', class_=\"list_text\")[0]\n",
    "\n",
    "# News title \n",
    "news_title = news_section.find(class_=\"content_title\").text\n",
    "\n",
    "# News paragraph\n",
    "news_p = news_section.find(class_=\"article_teaser_body\").text\n",
    "\n",
    "\n",
    "# Creating a dictionary for scraped information\n",
    "news_data = {\n",
    "    \"News Title\": news_title,\n",
    "    \"News Paragraph\" : news_p\n",
    "    }\n",
    "    \n",
    "browser.quit()\n"
   ]
  },
  {
   "cell_type": "code",
   "execution_count": 40,
   "metadata": {},
   "outputs": [
    {
     "data": {
      "text/plain": [
       "{'News Title': \"NASA's InSight Mars Lander Gets a Power Boost\",\n",
       " 'News Paragraph': 'The spacecraft successfully cleared some dust off its solar panels, helping to raise its energy and delay when it will need to switch off its science instruments.'}"
      ]
     },
     "execution_count": 40,
     "metadata": {},
     "output_type": "execute_result"
    }
   ],
   "source": [
    "news_data"
   ]
  },
  {
   "cell_type": "markdown",
   "metadata": {},
   "source": [
    "### JPL Mars Space Images\n"
   ]
  },
  {
   "cell_type": "code",
   "execution_count": 41,
   "metadata": {},
   "outputs": [],
   "source": [
    "# Use splinter to navigate the site and find the image url for the current Featured Mars Image\n",
    "# and assign the url string to a variable called featured_image_url."
   ]
  },
  {
   "cell_type": "code",
   "execution_count": 42,
   "metadata": {},
   "outputs": [
    {
     "name": "stderr",
     "output_type": "stream",
     "text": [
      "\n",
      "\n",
      "====== WebDriver manager ======\n",
      "Current google-chrome version is 91.0.4472\n",
      "Get LATEST driver version for 91.0.4472\n",
      "Driver [/Users/williamserene/.wdm/drivers/chromedriver/mac64/91.0.4472.19/chromedriver] found in cache\n"
     ]
    }
   ],
   "source": [
    "browser = start_browser()\n",
    "browser.visit('https://data-class-jpl-space.s3.amazonaws.com/JPL_Space/index.html')\n",
    "\n",
    "time.sleep(2)\n",
    "\n",
    "html = browser.html\n",
    "soup = bs(html,'html.parser')\n",
    "\n",
    "\n",
    "mars_image = soup.find('img', class_ = \"headerimage\")['src']\n",
    "\n",
    "\n",
    "mars_image_url = 'https://data-class-jpl-space.s3.amazonaws.com/JPL_Space' + '/' + mars_image\n",
    "\n",
    "featured_image_url = {\n",
    "    \"Featured Image URL\": mars_image_url\n",
    "    }\n",
    "\n",
    "browser.quit()\n"
   ]
  },
  {
   "cell_type": "code",
   "execution_count": 43,
   "metadata": {},
   "outputs": [
    {
     "data": {
      "text/plain": [
       "{'Featured Image URL': 'https://data-class-jpl-space.s3.amazonaws.com/JPL_Space/image/featured/mars1.jpg'}"
      ]
     },
     "execution_count": 43,
     "metadata": {},
     "output_type": "execute_result"
    }
   ],
   "source": [
    "featured_image_url"
   ]
  },
  {
   "cell_type": "markdown",
   "metadata": {},
   "source": [
    "### Mars Facts"
   ]
  },
  {
   "cell_type": "code",
   "execution_count": 44,
   "metadata": {},
   "outputs": [
    {
     "data": {
      "text/html": [
       "<div>\n",
       "<style scoped>\n",
       "    .dataframe tbody tr th:only-of-type {\n",
       "        vertical-align: middle;\n",
       "    }\n",
       "\n",
       "    .dataframe tbody tr th {\n",
       "        vertical-align: top;\n",
       "    }\n",
       "\n",
       "    .dataframe thead th {\n",
       "        text-align: right;\n",
       "    }\n",
       "</style>\n",
       "<table border=\"1\" class=\"dataframe\">\n",
       "  <thead>\n",
       "    <tr style=\"text-align: right;\">\n",
       "      <th></th>\n",
       "      <th></th>\n",
       "      <th>Mars Facts</th>\n",
       "    </tr>\n",
       "  </thead>\n",
       "  <tbody>\n",
       "    <tr>\n",
       "      <th>0</th>\n",
       "      <td>Equatorial Diameter:</td>\n",
       "      <td>6,792 km</td>\n",
       "    </tr>\n",
       "    <tr>\n",
       "      <th>1</th>\n",
       "      <td>Polar Diameter:</td>\n",
       "      <td>6,752 km</td>\n",
       "    </tr>\n",
       "    <tr>\n",
       "      <th>2</th>\n",
       "      <td>Mass:</td>\n",
       "      <td>6.39 × 10^23 kg (0.11 Earths)</td>\n",
       "    </tr>\n",
       "    <tr>\n",
       "      <th>3</th>\n",
       "      <td>Moons:</td>\n",
       "      <td>2 (Phobos &amp; Deimos)</td>\n",
       "    </tr>\n",
       "    <tr>\n",
       "      <th>4</th>\n",
       "      <td>Orbit Distance:</td>\n",
       "      <td>227,943,824 km (1.38 AU)</td>\n",
       "    </tr>\n",
       "    <tr>\n",
       "      <th>5</th>\n",
       "      <td>Orbit Period:</td>\n",
       "      <td>687 days (1.9 years)</td>\n",
       "    </tr>\n",
       "    <tr>\n",
       "      <th>6</th>\n",
       "      <td>Surface Temperature:</td>\n",
       "      <td>-87 to -5 °C</td>\n",
       "    </tr>\n",
       "    <tr>\n",
       "      <th>7</th>\n",
       "      <td>First Record:</td>\n",
       "      <td>2nd millennium BC</td>\n",
       "    </tr>\n",
       "    <tr>\n",
       "      <th>8</th>\n",
       "      <td>Recorded By:</td>\n",
       "      <td>Egyptian astronomers</td>\n",
       "    </tr>\n",
       "  </tbody>\n",
       "</table>\n",
       "</div>"
      ],
      "text/plain": [
       "                                            Mars Facts\n",
       "0  Equatorial Diameter:                       6,792 km\n",
       "1       Polar Diameter:                       6,752 km\n",
       "2                 Mass:  6.39 × 10^23 kg (0.11 Earths)\n",
       "3                Moons:            2 (Phobos & Deimos)\n",
       "4       Orbit Distance:       227,943,824 km (1.38 AU)\n",
       "5         Orbit Period:           687 days (1.9 years)\n",
       "6  Surface Temperature:                   -87 to -5 °C\n",
       "7         First Record:              2nd millennium BC\n",
       "8          Recorded By:           Egyptian astronomers"
      ]
     },
     "metadata": {},
     "output_type": "display_data"
    },
    {
     "data": {
      "text/html": [
       "<style  type=\"text/css\" >\n",
       "#T_f59d1696_c8cd_11eb_ad27_3035adc45e52row0_col0,#T_f59d1696_c8cd_11eb_ad27_3035adc45e52row1_col0,#T_f59d1696_c8cd_11eb_ad27_3035adc45e52row2_col0,#T_f59d1696_c8cd_11eb_ad27_3035adc45e52row3_col0,#T_f59d1696_c8cd_11eb_ad27_3035adc45e52row4_col0,#T_f59d1696_c8cd_11eb_ad27_3035adc45e52row5_col0,#T_f59d1696_c8cd_11eb_ad27_3035adc45e52row6_col0,#T_f59d1696_c8cd_11eb_ad27_3035adc45e52row7_col0,#T_f59d1696_c8cd_11eb_ad27_3035adc45e52row8_col0{\n",
       "            text-align:  center;\n",
       "        }</style><table id=\"T_f59d1696_c8cd_11eb_ad27_3035adc45e52\" ><thead>    <tr>        <th class=\"blank level0\" ></th>        <th class=\"col_heading level0 col0\" >Mars Facts</th>    </tr>    <tr>        <th class=\"index_name level0\" ></th>        <th class=\"blank\" ></th>    </tr></thead><tbody>\n",
       "                <tr>\n",
       "                        <th id=\"T_f59d1696_c8cd_11eb_ad27_3035adc45e52level0_row0\" class=\"row_heading level0 row0\" >Equatorial Diameter:</th>\n",
       "                        <td id=\"T_f59d1696_c8cd_11eb_ad27_3035adc45e52row0_col0\" class=\"data row0 col0\" >6,792 km</td>\n",
       "            </tr>\n",
       "            <tr>\n",
       "                        <th id=\"T_f59d1696_c8cd_11eb_ad27_3035adc45e52level0_row1\" class=\"row_heading level0 row1\" >Polar Diameter:</th>\n",
       "                        <td id=\"T_f59d1696_c8cd_11eb_ad27_3035adc45e52row1_col0\" class=\"data row1 col0\" >6,752 km</td>\n",
       "            </tr>\n",
       "            <tr>\n",
       "                        <th id=\"T_f59d1696_c8cd_11eb_ad27_3035adc45e52level0_row2\" class=\"row_heading level0 row2\" >Mass:</th>\n",
       "                        <td id=\"T_f59d1696_c8cd_11eb_ad27_3035adc45e52row2_col0\" class=\"data row2 col0\" >6.39 × 10^23 kg (0.11 Earths)</td>\n",
       "            </tr>\n",
       "            <tr>\n",
       "                        <th id=\"T_f59d1696_c8cd_11eb_ad27_3035adc45e52level0_row3\" class=\"row_heading level0 row3\" >Moons:</th>\n",
       "                        <td id=\"T_f59d1696_c8cd_11eb_ad27_3035adc45e52row3_col0\" class=\"data row3 col0\" >2 (Phobos & Deimos)</td>\n",
       "            </tr>\n",
       "            <tr>\n",
       "                        <th id=\"T_f59d1696_c8cd_11eb_ad27_3035adc45e52level0_row4\" class=\"row_heading level0 row4\" >Orbit Distance:</th>\n",
       "                        <td id=\"T_f59d1696_c8cd_11eb_ad27_3035adc45e52row4_col0\" class=\"data row4 col0\" >227,943,824 km (1.38 AU)</td>\n",
       "            </tr>\n",
       "            <tr>\n",
       "                        <th id=\"T_f59d1696_c8cd_11eb_ad27_3035adc45e52level0_row5\" class=\"row_heading level0 row5\" >Orbit Period:</th>\n",
       "                        <td id=\"T_f59d1696_c8cd_11eb_ad27_3035adc45e52row5_col0\" class=\"data row5 col0\" >687 days (1.9 years)</td>\n",
       "            </tr>\n",
       "            <tr>\n",
       "                        <th id=\"T_f59d1696_c8cd_11eb_ad27_3035adc45e52level0_row6\" class=\"row_heading level0 row6\" >Surface Temperature:</th>\n",
       "                        <td id=\"T_f59d1696_c8cd_11eb_ad27_3035adc45e52row6_col0\" class=\"data row6 col0\" >-87 to -5 °C</td>\n",
       "            </tr>\n",
       "            <tr>\n",
       "                        <th id=\"T_f59d1696_c8cd_11eb_ad27_3035adc45e52level0_row7\" class=\"row_heading level0 row7\" >First Record:</th>\n",
       "                        <td id=\"T_f59d1696_c8cd_11eb_ad27_3035adc45e52row7_col0\" class=\"data row7 col0\" >2nd millennium BC</td>\n",
       "            </tr>\n",
       "            <tr>\n",
       "                        <th id=\"T_f59d1696_c8cd_11eb_ad27_3035adc45e52level0_row8\" class=\"row_heading level0 row8\" >Recorded By:</th>\n",
       "                        <td id=\"T_f59d1696_c8cd_11eb_ad27_3035adc45e52row8_col0\" class=\"data row8 col0\" >Egyptian astronomers</td>\n",
       "            </tr>\n",
       "    </tbody></table>"
      ],
      "text/plain": [
       "<pandas.io.formats.style.Styler at 0x7fd82a4f7490>"
      ]
     },
     "metadata": {},
     "output_type": "display_data"
    }
   ],
   "source": [
    "# Use Pandas web scraper to pull HTML table data into a dataframe.\n",
    "\n",
    "facts_url = 'https://space-facts.com/mars/'\n",
    "\n",
    "table = pd.read_html(facts_url)\n",
    "mars_table = pd.DataFrame(table[0])\n",
    "mars_table = mars_table.rename(columns = {\n",
    "                                0:'',\n",
    "                                1:'Mars Facts',\n",
    "                                })\n",
    "\n",
    "display(mars_table)\n",
    "\n",
    "center_aligned_df = mars_table.set_index('', inplace = True)\n",
    "\n",
    "center_aligned_df = mars_table.style.set_properties(**{'text-align': 'center'})\n",
    "\n",
    "# center_aligned_df.set_index('', inplace = True, drop = True)\n",
    "\n",
    "display(center_aligned_df)\n",
    "\n",
    "\n",
    "# mars_table.columns()\n",
    "# \n",
    "\n",
    "\n",
    "\n"
   ]
  },
  {
   "cell_type": "code",
   "execution_count": 45,
   "metadata": {},
   "outputs": [
    {
     "data": {
      "text/plain": [
       "'<table border=\"1\" class=\"dataframe\">  <thead>    <tr style=\"text-align: right;\">      <th></th>      <th>Mars Facts</th>    </tr>    <tr>      <th></th>      <th></th>    </tr>  </thead>  <tbody>    <tr>      <th>Equatorial Diameter:</th>      <td>6,792 km</td>    </tr>    <tr>      <th>Polar Diameter:</th>      <td>6,752 km</td>    </tr>    <tr>      <th>Mass:</th>      <td>6.39 × 10^23 kg (0.11 Earths)</td>    </tr>    <tr>      <th>Moons:</th>      <td>2 (Phobos &amp; Deimos)</td>    </tr>    <tr>      <th>Orbit Distance:</th>      <td>227,943,824 km (1.38 AU)</td>    </tr>    <tr>      <th>Orbit Period:</th>      <td>687 days (1.9 years)</td>    </tr>    <tr>      <th>Surface Temperature:</th>      <td>-87 to -5 °C</td>    </tr>    <tr>      <th>First Record:</th>      <td>2nd millennium BC</td>    </tr>    <tr>      <th>Recorded By:</th>      <td>Egyptian astronomers</td>    </tr>  </tbody></table>'"
      ]
     },
     "execution_count": 45,
     "metadata": {},
     "output_type": "execute_result"
    }
   ],
   "source": [
    "# Use Pandas function to_html to revert DataFrames back to HTML.\n",
    "    \n",
    "html_table = mars_table.to_html()\n",
    "\n",
    "# cleaning table\n",
    "html_table = html_table.replace('\\n','')\n",
    "\n",
    "html_table\n"
   ]
  },
  {
   "cell_type": "markdown",
   "metadata": {},
   "source": [
    "### Mars Hemispheres"
   ]
  },
  {
   "cell_type": "code",
   "execution_count": 46,
   "metadata": {},
   "outputs": [
    {
     "name": "stderr",
     "output_type": "stream",
     "text": [
      "\n",
      "\n",
      "====== WebDriver manager ======\n",
      "Current google-chrome version is 91.0.4472\n",
      "Get LATEST driver version for 91.0.4472\n",
      "Driver [/Users/williamserene/.wdm/drivers/chromedriver/mac64/91.0.4472.19/chromedriver] found in cache\n"
     ]
    },
    {
     "name": "stdout",
     "output_type": "stream",
     "text": [
      "Cerberus Hemisphere Enhanced\n",
      "https://marshemispheres.com/images/f5e372a36edfa389625da6d0cc25d905_cerberus_enhanced.tif_full.jpg\n"
     ]
    }
   ],
   "source": [
    "mars_hemispheres_url = 'https://marshemispheres.com/'\n",
    "\n",
    "browser = start_browser()\n",
    "browser.visit(mars_hemispheres_url)\n",
    "\n",
    "time.sleep(2)\n",
    "\n",
    "browser.links.find_by_partial_text('Cerberus Hemisphere Enhanced').click()\n",
    "\n",
    "html = browser.html\n",
    "soup = bs(html, 'html.parser')\n",
    "\n",
    "hemisphere_title1 = soup.find('h2', class_ = 'title').text\n",
    "hemisphere_image1 = soup.find('img', class_ = 'wide-image')['src']\n",
    "hemisphere_image1_url = f'{mars_hemispheres_url}{hemisphere_image1}'\n",
    "print(hemisphere_title1)\n",
    "print(hemisphere_image1_url)"
   ]
  },
  {
   "cell_type": "code",
   "execution_count": 47,
   "metadata": {},
   "outputs": [
    {
     "name": "stdout",
     "output_type": "stream",
     "text": [
      "Schiaparelli Hemisphere Enhanced\n",
      "https://marshemispheres.com/images/3778f7b43bbbc89d6e3cfabb3613ba93_schiaparelli_enhanced.tif_full.jpg\n"
     ]
    }
   ],
   "source": [
    "browser.visit(mars_hemispheres_url)\n",
    "\n",
    "time.sleep(2)\n",
    "\n",
    "browser.links.find_by_partial_text('Schiaparelli Hemisphere Enhanced').click()\n",
    "\n",
    "html = browser.html\n",
    "soup = bs(html, 'html.parser')\n",
    "\n",
    "hemisphere_title2 = soup.find('h2', class_ = 'title').text\n",
    "hemisphere_image2 = soup.find('img', class_ = 'wide-image')['src']\n",
    "hemisphere_image2_url = f'{mars_hemispheres_url}{hemisphere_image2}'\n",
    "print(hemisphere_title2)\n",
    "print(hemisphere_image2_url)"
   ]
  },
  {
   "cell_type": "code",
   "execution_count": 48,
   "metadata": {},
   "outputs": [
    {
     "name": "stdout",
     "output_type": "stream",
     "text": [
      "Syrtis Major Hemisphere Enhanced\n",
      "https://marshemispheres.com/images/555e6403a6ddd7ba16ddb0e471cadcf7_syrtis_major_enhanced.tif_full.jpg\n"
     ]
    }
   ],
   "source": [
    "browser.visit(mars_hemispheres_url)\n",
    "\n",
    "time.sleep(2)\n",
    "\n",
    "browser.links.find_by_partial_text('Syrtis Major Hemisphere Enhanced').click()\n",
    "\n",
    "html = browser.html\n",
    "soup = bs(html, 'html.parser')\n",
    "\n",
    "hemisphere_title3 = soup.find('h2', class_ = 'title').text\n",
    "hemisphere_image3 = soup.find('img', class_ = 'wide-image')['src']\n",
    "hemisphere_image3_url = f'{mars_hemispheres_url}{hemisphere_image3}'\n",
    "print(hemisphere_title3)\n",
    "print(hemisphere_image3_url)"
   ]
  },
  {
   "cell_type": "code",
   "execution_count": 49,
   "metadata": {},
   "outputs": [
    {
     "name": "stdout",
     "output_type": "stream",
     "text": [
      "Valles Marineris Hemisphere Enhanced\n",
      "https://marshemispheres.com/images/b3c7c6c9138f57b4756be9b9c43e3a48_valles_marineris_enhanced.tif_full.jpg\n"
     ]
    }
   ],
   "source": [
    "browser.visit(mars_hemispheres_url)\n",
    "\n",
    "time.sleep(2)\n",
    "\n",
    "browser.links.find_by_partial_text('Valles Marineris Hemisphere Enhanced').click()\n",
    "\n",
    "html = browser.html\n",
    "soup = bs(html, 'html.parser')\n",
    "\n",
    "hemisphere_title4 = soup.find('h2', class_ = 'title').text\n",
    "hemisphere_image4 = soup.find('img', class_ = 'wide-image')['src']\n",
    "hemisphere_image4_url = f'{mars_hemispheres_url}{hemisphere_image4}'\n",
    "print(hemisphere_title4)\n",
    "print(hemisphere_image4_url)"
   ]
  },
  {
   "cell_type": "code",
   "execution_count": 50,
   "metadata": {},
   "outputs": [
    {
     "data": {
      "text/plain": [
       "[{'title1': 'Cerberus Hemisphere Enhanced',\n",
       "  'img1_url': 'https://marshemispheres.com/images/f5e372a36edfa389625da6d0cc25d905_cerberus_enhanced.tif_full.jpg'},\n",
       " {'title2': 'Schiaparelli Hemisphere Enhanced',\n",
       "  'img2_url': 'https://marshemispheres.com/images/3778f7b43bbbc89d6e3cfabb3613ba93_schiaparelli_enhanced.tif_full.jpg'},\n",
       " {'title3': 'Syrtis Major Hemisphere Enhanced',\n",
       "  'img3_url': 'https://marshemispheres.com/images/555e6403a6ddd7ba16ddb0e471cadcf7_syrtis_major_enhanced.tif_full.jpg'},\n",
       " {'title4': 'Valles Marineris Hemisphere Enhanced',\n",
       "  'img4_url': 'https://marshemispheres.com/images/b3c7c6c9138f57b4756be9b9c43e3a48_valles_marineris_enhanced.tif_full.jpg'}]"
      ]
     },
     "execution_count": 50,
     "metadata": {},
     "output_type": "execute_result"
    }
   ],
   "source": [
    "# Create a Dictionary to store hemisphere titles and urls\n",
    "hemisphere_image_urls = [\n",
    "    {\"title1\": hemisphere_title1, \"img1_url\": hemisphere_image1_url},\n",
    "    {\"title2\": hemisphere_title2, \"img2_url\": hemisphere_image2_url},\n",
    "    {\"title3\": hemisphere_title3, \"img3_url\": hemisphere_image3_url},\n",
    "    {\"title4\": hemisphere_title4, \"img4_url\": hemisphere_image4_url},\n",
    "]\n",
    "\n",
    "hemisphere_image_urls"
   ]
  },
  {
   "cell_type": "code",
   "execution_count": 51,
   "metadata": {},
   "outputs": [],
   "source": [
    "browser.quit()"
   ]
  },
  {
   "cell_type": "code",
   "execution_count": null,
   "metadata": {},
   "outputs": [],
   "source": []
  },
  {
   "cell_type": "code",
   "execution_count": null,
   "metadata": {},
   "outputs": [],
   "source": []
  }
 ],
 "metadata": {
  "kernelspec": {
   "display_name": "Python 3",
   "language": "python",
   "name": "python3"
  },
  "language_info": {
   "codemirror_mode": {
    "name": "ipython",
    "version": 3
   },
   "file_extension": ".py",
   "mimetype": "text/x-python",
   "name": "python",
   "nbconvert_exporter": "python",
   "pygments_lexer": "ipython3",
   "version": "3.8.5"
  }
 },
 "nbformat": 4,
 "nbformat_minor": 4
}
