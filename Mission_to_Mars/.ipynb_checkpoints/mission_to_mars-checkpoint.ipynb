{
 "cells": [
  {
   "cell_type": "code",
   "execution_count": 5,
   "metadata": {},
   "outputs": [],
   "source": [
    "# Dependencies\n",
    "import os\n",
    "import pandas as pd\n",
    "import requests\n",
    "import time\n",
    "from splinter import Browser\n",
    "from bs4 import BeautifulSoup as bs\n",
    "from webdriver_manager.chrome import ChromeDriverManager"
   ]
  },
  {
   "cell_type": "code",
   "execution_count": 6,
   "metadata": {},
   "outputs": [],
   "source": [
    "def start_browser():\n",
    "    executable_path = {'executable_path': '/usr/local/bin/chromedriver'}\n",
    "    return Browser('chrome', **executable_path, headless=False)\n",
    "\n",
    "#     executable_path = {'executable_path': ChromeDriverManager().install()}\n",
    "#     return Browser('chrome', **executable_path, headless=False)\n"
   ]
  },
  {
   "cell_type": "markdown",
   "metadata": {},
   "source": [
    "## Nasa Scrape"
   ]
  },
  {
   "cell_type": "code",
   "execution_count": 7,
   "metadata": {},
   "outputs": [],
   "source": [
    "# Scrape the NASA Mars News Site and collect the latest News Title and Paragraph Text. \n",
    "browser = start_browser()\n",
    "browser.visit('https://mars.nasa.gov/news/')\n",
    "\n",
    "time.sleep(2)\n",
    "\n",
    "# Create BeautifulSoup object; parse with 'html.parser'\n",
    "# Scraping page into Soup\n",
    "html = browser.html\n",
    "soup = bs(html, \"html.parser\")\n",
    "\n",
    "# News\n",
    "news_section = soup.find_all('div', class_=\"list_text\")[0]\n",
    "\n",
    "# News title \n",
    "news_title = news_section.find(class_=\"content_title\").text\n",
    "\n",
    "# News paragraph\n",
    "news_p = news_section.find(class_=\"article_teaser_body\").text\n",
    "\n",
    "\n",
    "# Creating a dictionary for scraped information\n",
    "news_data = {\n",
    "    \"News Title\": news_title,\n",
    "    \"News Paragraph\" : news_p\n",
    "    }\n",
    "    \n",
    "browser.quit()\n"
   ]
  },
  {
   "cell_type": "code",
   "execution_count": 8,
   "metadata": {},
   "outputs": [
    {
     "data": {
      "text/plain": [
       "{'News Title': \"NASA's InSight Mars Lander Gets a Power Boost\",\n",
       " 'News Paragraph': 'The spacecraft successfully cleared some dust off its solar panels, helping to raise its energy and delay when it will need to switch off its science instruments.'}"
      ]
     },
     "execution_count": 8,
     "metadata": {},
     "output_type": "execute_result"
    }
   ],
   "source": [
    "news_data"
   ]
  },
  {
   "cell_type": "markdown",
   "metadata": {},
   "source": [
    "### JPL Mars Space Images\n"
   ]
  },
  {
   "cell_type": "code",
   "execution_count": 9,
   "metadata": {},
   "outputs": [],
   "source": [
    "# Use splinter to navigate the site and find the image url for the current Featured Mars Image\n",
    "# and assign the url string to a variable called featured_image_url."
   ]
  },
  {
   "cell_type": "code",
   "execution_count": 10,
   "metadata": {},
   "outputs": [],
   "source": [
    "browser = start_browser()\n",
    "browser.visit('https://data-class-jpl-space.s3.amazonaws.com/JPL_Space/index.html')\n",
    "\n",
    "time.sleep(2)\n",
    "\n",
    "html = browser.html\n",
    "soup = bs(html,'html.parser')\n",
    "\n",
    "\n",
    "mars_image = soup.find('img', class_ = \"headerimage\")['src']\n",
    "\n",
    "\n",
    "mars_image_url = 'https://data-class-jpl-space.s3.amazonaws.com/JPL_Space' + '/' + mars_image\n",
    "\n",
    "featured_image_url = {\n",
    "    \"Featured Image URL\": mars_image_url\n",
    "    }\n",
    "\n",
    "browser.quit()\n"
   ]
  },
  {
   "cell_type": "code",
   "execution_count": 11,
   "metadata": {},
   "outputs": [
    {
     "data": {
      "text/plain": [
       "{'Featured Image URL': 'https://data-class-jpl-space.s3.amazonaws.com/JPL_Space/image/featured/mars2.jpg'}"
      ]
     },
     "execution_count": 11,
     "metadata": {},
     "output_type": "execute_result"
    }
   ],
   "source": [
    "featured_image_url"
   ]
  },
  {
   "cell_type": "markdown",
   "metadata": {},
   "source": [
    "### Mars Facts"
   ]
  },
  {
   "cell_type": "code",
   "execution_count": 65,
   "metadata": {},
   "outputs": [
    {
     "data": {
      "text/html": [
       "<div>\n",
       "<style scoped>\n",
       "    .dataframe tbody tr th:only-of-type {\n",
       "        vertical-align: middle;\n",
       "    }\n",
       "\n",
       "    .dataframe tbody tr th {\n",
       "        vertical-align: top;\n",
       "    }\n",
       "\n",
       "    .dataframe thead th {\n",
       "        text-align: right;\n",
       "    }\n",
       "</style>\n",
       "<table border=\"1\" class=\"dataframe\">\n",
       "  <thead>\n",
       "    <tr style=\"text-align: right;\">\n",
       "      <th></th>\n",
       "      <th>Mars Facts</th>\n",
       "    </tr>\n",
       "    <tr>\n",
       "      <th></th>\n",
       "      <th></th>\n",
       "    </tr>\n",
       "  </thead>\n",
       "  <tbody>\n",
       "    <tr>\n",
       "      <th>Equatorial Diameter:</th>\n",
       "      <td>6,792 km</td>\n",
       "    </tr>\n",
       "    <tr>\n",
       "      <th>Polar Diameter:</th>\n",
       "      <td>6,752 km</td>\n",
       "    </tr>\n",
       "    <tr>\n",
       "      <th>Mass:</th>\n",
       "      <td>6.39 × 10^23 kg (0.11 Earths)</td>\n",
       "    </tr>\n",
       "    <tr>\n",
       "      <th>Moons:</th>\n",
       "      <td>2 (Phobos &amp; Deimos)</td>\n",
       "    </tr>\n",
       "    <tr>\n",
       "      <th>Orbit Distance:</th>\n",
       "      <td>227,943,824 km (1.38 AU)</td>\n",
       "    </tr>\n",
       "    <tr>\n",
       "      <th>Orbit Period:</th>\n",
       "      <td>687 days (1.9 years)</td>\n",
       "    </tr>\n",
       "    <tr>\n",
       "      <th>Surface Temperature:</th>\n",
       "      <td>-87 to -5 °C</td>\n",
       "    </tr>\n",
       "    <tr>\n",
       "      <th>First Record:</th>\n",
       "      <td>2nd millennium BC</td>\n",
       "    </tr>\n",
       "    <tr>\n",
       "      <th>Recorded By:</th>\n",
       "      <td>Egyptian astronomers</td>\n",
       "    </tr>\n",
       "  </tbody>\n",
       "</table>\n",
       "</div>"
      ],
      "text/plain": [
       "                                         Mars Facts\n",
       "                                                   \n",
       "Equatorial Diameter:                       6,792 km\n",
       "Polar Diameter:                            6,752 km\n",
       "Mass:                 6.39 × 10^23 kg (0.11 Earths)\n",
       "Moons:                          2 (Phobos & Deimos)\n",
       "Orbit Distance:            227,943,824 km (1.38 AU)\n",
       "Orbit Period:                  687 days (1.9 years)\n",
       "Surface Temperature:                   -87 to -5 °C\n",
       "First Record:                     2nd millennium BC\n",
       "Recorded By:                   Egyptian astronomers"
      ]
     },
     "metadata": {},
     "output_type": "display_data"
    }
   ],
   "source": [
    "# Use Pandas web scraper to pull HTML table data into a dataframe.\n",
    "\n",
    "facts_url = 'https://space-facts.com/mars/'\n",
    "\n",
    "table = pd.read_html(facts_url)\n",
    "mars_table = pd.DataFrame(table[0])\n",
    "mars_table = mars_table.rename(columns = {\n",
    "                                0:'',\n",
    "                                1:'Mars Facts'})\n",
    "\n",
    "mars_table.head()\n",
    "\n",
    "mars_table.set_index('', inplace = True)\n",
    "\n",
    "# center_aligned_df = mars_table.style.set_properties(**{'text-align': 'center'})\n",
    "\n",
    "# center_aligned_df.set_index('', inplace = True, drop = True)\n",
    "\n",
    "\n",
    "display(mars_table)\n",
    "\n",
    "# mars_table.columns()\n",
    "# \n",
    "\n",
    "\n",
    "\n"
   ]
  },
  {
   "cell_type": "code",
   "execution_count": 66,
   "metadata": {},
   "outputs": [],
   "source": [
    "# Use Pandas function to_html to revert DataFrames back to HTML.\n",
    "\n",
    "html_table = mars_table.to_html()\n",
    "\n",
    "\n",
    "# cleaning table\n",
    "html_table.replace('\\n', '')\n",
    "\n",
    "\n",
    "!open html_table.html\n"
   ]
  },
  {
   "cell_type": "markdown",
   "metadata": {},
   "source": [
    "### Mars Hemispheres"
   ]
  },
  {
   "cell_type": "code",
   "execution_count": 32,
   "metadata": {},
   "outputs": [
    {
     "name": "stdout",
     "output_type": "stream",
     "text": [
      "Cerberus Hemisphere Enhanced\n",
      "https://marshemispheres.com/images/f5e372a36edfa389625da6d0cc25d905_cerberus_enhanced.tif_full.jpg\n"
     ]
    }
   ],
   "source": [
    "mars_hemispheres_url = 'https://marshemispheres.com/'\n",
    "\n",
    "browser = start_browser()\n",
    "browser.visit(mars_hemispheres_url)\n",
    "\n",
    "time.sleep(2)\n",
    "\n",
    "browser.links.find_by_partial_text('Cerberus Hemisphere Enhanced').click()\n",
    "\n",
    "html = browser.html\n",
    "soup = bs(html, 'html.parser')\n",
    "\n",
    "hemisphere_title1 = soup.find('h2', class_ = 'title').text\n",
    "hemisphere_image1 = soup.find('img', class_ = 'wide-image')['src']\n",
    "hemisphere_image1_url = f'{mars_hemispheres_url}{hemisphere_image1}'\n",
    "print(hemisphere_title1)\n",
    "print(hemisphere_image1_url)"
   ]
  },
  {
   "cell_type": "code",
   "execution_count": 33,
   "metadata": {},
   "outputs": [
    {
     "name": "stdout",
     "output_type": "stream",
     "text": [
      "Schiaparelli Hemisphere Enhanced\n",
      "https://marshemispheres.com/images/3778f7b43bbbc89d6e3cfabb3613ba93_schiaparelli_enhanced.tif_full.jpg\n"
     ]
    }
   ],
   "source": [
    "browser.visit(mars_hemispheres_url)\n",
    "\n",
    "time.sleep(2)\n",
    "\n",
    "browser.links.find_by_partial_text('Schiaparelli Hemisphere Enhanced').click()\n",
    "\n",
    "html = browser.html\n",
    "soup = bs(html, 'html.parser')\n",
    "\n",
    "hemisphere_title2 = soup.find('h2', class_ = 'title').text\n",
    "hemisphere_image2 = soup.find('img', class_ = 'wide-image')['src']\n",
    "hemisphere_image2_url = f'{mars_hemispheres_url}{hemisphere_image2}'\n",
    "print(hemisphere_title2)\n",
    "print(hemisphere_image2_url)"
   ]
  },
  {
   "cell_type": "code",
   "execution_count": 34,
   "metadata": {},
   "outputs": [
    {
     "name": "stdout",
     "output_type": "stream",
     "text": [
      "Syrtis Major Hemisphere Enhanced\n",
      "https://marshemispheres.com/images/555e6403a6ddd7ba16ddb0e471cadcf7_syrtis_major_enhanced.tif_full.jpg\n"
     ]
    }
   ],
   "source": [
    "browser.visit(mars_hemispheres_url)\n",
    "\n",
    "time.sleep(2)\n",
    "\n",
    "browser.links.find_by_partial_text('Syrtis Major Hemisphere Enhanced').click()\n",
    "\n",
    "html = browser.html\n",
    "soup = bs(html, 'html.parser')\n",
    "\n",
    "hemisphere_title3 = soup.find('h2', class_ = 'title').text\n",
    "hemisphere_image3 = soup.find('img', class_ = 'wide-image')['src']\n",
    "hemisphere_image3_url = f'{mars_hemispheres_url}{hemisphere_image3}'\n",
    "print(hemisphere_title3)\n",
    "print(hemisphere_image3_url)"
   ]
  },
  {
   "cell_type": "code",
   "execution_count": 35,
   "metadata": {},
   "outputs": [
    {
     "name": "stdout",
     "output_type": "stream",
     "text": [
      "Valles Marineris Hemisphere Enhanced\n",
      "https://marshemispheres.com/images/b3c7c6c9138f57b4756be9b9c43e3a48_valles_marineris_enhanced.tif_full.jpg\n"
     ]
    }
   ],
   "source": [
    "browser.visit(mars_hemispheres_url)\n",
    "\n",
    "time.sleep(2)\n",
    "\n",
    "browser.links.find_by_partial_text('Valles Marineris Hemisphere Enhanced').click()\n",
    "\n",
    "html = browser.html\n",
    "soup = bs(html, 'html.parser')\n",
    "\n",
    "hemisphere_title4 = soup.find('h2', class_ = 'title').text\n",
    "hemisphere_image4 = soup.find('img', class_ = 'wide-image')['src']\n",
    "hemisphere_image4_url = f'{mars_hemispheres_url}{hemisphere_image4}'\n",
    "print(hemisphere_title4)\n",
    "print(hemisphere_image4_url)"
   ]
  },
  {
   "cell_type": "code",
   "execution_count": 36,
   "metadata": {},
   "outputs": [
    {
     "data": {
      "text/plain": [
       "[{'title1': 'Cerberus Hemisphere Enhanced',\n",
       "  'img1_url': 'https://marshemispheres.com/images/f5e372a36edfa389625da6d0cc25d905_cerberus_enhanced.tif_full.jpg'},\n",
       " {'title2': 'Schiaparelli Hemisphere Enhanced',\n",
       "  'img2_url': 'https://marshemispheres.com/images/3778f7b43bbbc89d6e3cfabb3613ba93_schiaparelli_enhanced.tif_full.jpg'},\n",
       " {'title3': 'Syrtis Major Hemisphere Enhanced',\n",
       "  'img3_url': 'https://marshemispheres.com/images/555e6403a6ddd7ba16ddb0e471cadcf7_syrtis_major_enhanced.tif_full.jpg'},\n",
       " {'title4': 'Valles Marineris Hemisphere Enhanced',\n",
       "  'img4_url': 'https://marshemispheres.com/images/b3c7c6c9138f57b4756be9b9c43e3a48_valles_marineris_enhanced.tif_full.jpg'}]"
      ]
     },
     "execution_count": 36,
     "metadata": {},
     "output_type": "execute_result"
    }
   ],
   "source": [
    "# Create a Dictionary to store hemisphere titles and urls\n",
    "hemisphere_image_urls = [\n",
    "    {\"title1\": hemisphere_title1, \"img1_url\": hemisphere_image1_url},\n",
    "    {\"title2\": hemisphere_title2, \"img2_url\": hemisphere_image2_url},\n",
    "    {\"title3\": hemisphere_title3, \"img3_url\": hemisphere_image3_url},\n",
    "    {\"title4\": hemisphere_title4, \"img4_url\": hemisphere_image4_url},\n",
    "]\n",
    "\n",
    "hemisphere_image_urls"
   ]
  },
  {
   "cell_type": "code",
   "execution_count": 37,
   "metadata": {},
   "outputs": [],
   "source": [
    "browser.quit()"
   ]
  },
  {
   "cell_type": "code",
   "execution_count": null,
   "metadata": {},
   "outputs": [],
   "source": []
  },
  {
   "cell_type": "code",
   "execution_count": null,
   "metadata": {},
   "outputs": [],
   "source": []
  }
 ],
 "metadata": {
  "kernelspec": {
   "display_name": "Python 3",
   "language": "python",
   "name": "python3"
  },
  "language_info": {
   "codemirror_mode": {
    "name": "ipython",
    "version": 3
   },
   "file_extension": ".py",
   "mimetype": "text/x-python",
   "name": "python",
   "nbconvert_exporter": "python",
   "pygments_lexer": "ipython3",
   "version": "3.8.5"
  }
 },
 "nbformat": 4,
 "nbformat_minor": 4
}
