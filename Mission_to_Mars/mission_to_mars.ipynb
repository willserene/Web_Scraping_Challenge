{
 "cells": [
  {
   "cell_type": "code",
   "execution_count": 3,
   "metadata": {},
   "outputs": [],
   "source": [
    "# Dependencies\n",
    "\n",
    "from splinter import Browser\n",
    "from bs4 import BeautifulSoup as bs\n",
    "from webdriver_manager.chrome import ChromeDriverManager\n",
    "import os\n",
    "import pandas as pd\n",
    "import requests\n",
    "import time\n",
    "from password import password"
   ]
  },
  {
   "cell_type": "code",
   "execution_count": 2,
   "metadata": {},
   "outputs": [],
   "source": [
    "def start_browser():\n",
    "    executable_path = {'executable_path': ChromeDriverManager().install()}\n",
    "    return Browser('chrome', **executable_path, headless=False)\n",
    "    \n",
    "#     executable_path = {'executable_path': 'Resources/chromedriver.exe'}\n",
    "#     return Browser('chrome', **executable_path, headless=False)"
   ]
  },
  {
   "cell_type": "code",
   "execution_count": 41,
   "metadata": {},
   "outputs": [],
   "source": [
    "# Initial scraping completed using Jupyter Notebook, BeautifulSoup, Pandas, and Requests/Splinter.\n"
   ]
  },
  {
   "cell_type": "code",
   "execution_count": 42,
   "metadata": {},
   "outputs": [],
   "source": []
  },
  {
   "cell_type": "markdown",
   "metadata": {},
   "source": [
    "## Nasa Scrape"
   ]
  },
  {
   "cell_type": "code",
   "execution_count": 45,
   "metadata": {},
   "outputs": [
    {
     "name": "stderr",
     "output_type": "stream",
     "text": [
      "\n",
      "\n",
      "====== WebDriver manager ======\n",
      "Current google-chrome version is 91.0.4472\n",
      "Get LATEST driver version for 91.0.4472\n",
      "Driver [/Users/williamserene/.wdm/drivers/chromedriver/mac64/91.0.4472.19/chromedriver] found in cache\n"
     ]
    }
   ],
   "source": [
    "# Scrape the NASA Mars News Site and collect the latest News Title and Paragraph Text. \n",
    "browser = start_browser()\n",
    "browser.visit('https://mars.nasa.gov/news/')\n",
    "\n",
    "\n",
    "# Create BeautifulSoup object; parse with 'html.parser'\n",
    "# Scraping page into Soup\n",
    "html = browser.html\n",
    "soup = bs(html, \"html.parser\")\n",
    "\n",
    "# News\n",
    "news_section = soup.find_all('div', class_=\"list_text\")[0]\n",
    "\n",
    "# News title \n",
    "news_title = news_section.find(class_=\"content_title\").text\n",
    "\n",
    "# News paragraph\n",
    "news_p = news_section.find(class_=\"article_teaser_body\").text\n",
    "\n",
    "\n",
    "# Creating a dictionary for scraped information\n",
    "news_data= {\n",
    "    \"News Title\": news_title,\n",
    "    \"News Paragraph\" : news_p\n",
    "    }\n",
    "    \n",
    "browser.quit()\n"
   ]
  },
  {
   "cell_type": "code",
   "execution_count": 46,
   "metadata": {},
   "outputs": [
    {
     "data": {
      "text/plain": [
       "{'News Title': 'Life Goals: NASA Software Unlocks Martian Rover Productivity',\n",
       " 'News Paragraph': 'Productivity pundits know lots of tricks to make the most of your day, so you can schedule enough time for important tasks while guarding against overload.'}"
      ]
     },
     "execution_count": 46,
     "metadata": {},
     "output_type": "execute_result"
    }
   ],
   "source": [
    "news_data"
   ]
  },
  {
   "cell_type": "markdown",
   "metadata": {},
   "source": [
    "### JPL Mars Space Images\n"
   ]
  },
  {
   "cell_type": "code",
   "execution_count": null,
   "metadata": {},
   "outputs": [],
   "source": [
    "# Use splinter to navigate the site and find the image url for the current Featured Mars Image and assign the url string to a variable called featured_image_url.\n",
    "# Make sure to find the image url to the full size .jpg image.\n",
    "# Make sure to save a complete url string for this image."
   ]
  },
  {
   "cell_type": "code",
   "execution_count": 3,
   "metadata": {},
   "outputs": [
    {
     "name": "stderr",
     "output_type": "stream",
     "text": [
      "\n",
      "\n",
      "====== WebDriver manager ======\n",
      "Current google-chrome version is 91.0.4472\n",
      "Get LATEST driver version for 91.0.4472\n",
      "Get LATEST driver version for 91.0.4472\n",
      "Trying to download new driver from https://chromedriver.storage.googleapis.com/91.0.4472.19/chromedriver_mac64.zip\n",
      "Driver has been saved in cache [/Users/williamserene/.wdm/drivers/chromedriver/mac64/91.0.4472.19]\n"
     ]
    }
   ],
   "source": [
    "browser=start_browser()\n",
    "browser.visit('https://data-class-jpl-space.s3.amazonaws.com/JPL_Space/index.html')\n",
    "\n",
    "html=browser.html\n",
    "soup=bs(html,'html.parser')\n",
    "\n",
    "\n",
    "mars_image=soup.find('img', class_=\"headerimage\")['src']\n",
    "\n",
    "\n",
    "mars_image_url = 'https://data-class-jpl-space.s3.amazonaws.com/JPL_Space' + '/' + mars_image\n",
    "\n",
    "featured_image_url= {\n",
    "    \"Featured Image URL\": mars_image_url\n",
    "    }\n",
    "\n",
    "browser.quit()\n"
   ]
  },
  {
   "cell_type": "code",
   "execution_count": null,
   "metadata": {},
   "outputs": [],
   "source": [
    "# featured_image=soup.find('img',class_='headerimage')\n",
    "# featured_image_src=featured_image['src']\n",
    "# featured_image_url=(f'https://data-class-jpl-space.s3.amazonaws.com/JPL_Space/{featured_image_src}')\n",
    "\n",
    "# browser.quit()\n"
   ]
  },
  {
   "cell_type": "code",
   "execution_count": 4,
   "metadata": {},
   "outputs": [
    {
     "data": {
      "text/plain": [
       "{'Featured Image URL': 'https://data-class-jpl-space.s3.amazonaws.com/JPL_Space/image/featured/mars3.jpg'}"
      ]
     },
     "execution_count": 4,
     "metadata": {},
     "output_type": "execute_result"
    }
   ],
   "source": [
    "featured_image_url"
   ]
  },
  {
   "cell_type": "markdown",
   "metadata": {},
   "source": [
    "### Mars Facts"
   ]
  },
  {
   "cell_type": "code",
   "execution_count": null,
   "metadata": {},
   "outputs": [],
   "source": [
    "# Visit the Mars Facts webpage here and use Pandas to scrape the table containing facts about the planet \n",
    "# including Diameter, Mass, etc.\n",
    "\n",
    "# Use Pandas to convert the data to a HTML table string.\n",
    "\n",
    "# The Pandas library includes a simple web scraper capability that pulls HTML table data into a dataframe.\n",
    "# Inserting the URL to the method read_html() will return the data in a list format.\n",
    "    # tables = pd.read_html(url)\n",
    "    \n",
    "# Pandas also provides a function called to_html function to revert DataFrames back to HTML.\n",
    "    # html_table = df.to_html()\n",
    "\n",
    "# Last but not least, we are able to save the HTML table utilizing df.to_html('table.html'). \n",
    "# Note that Mac OS X users are able to run !open table.html to open the file directly to a browser."
   ]
  },
  {
   "cell_type": "code",
   "execution_count": null,
   "metadata": {},
   "outputs": [],
   "source": [
    "browser=start_browser()\n",
    "browser.visit('https://space-facts.com/mars/')\n",
    "\n",
    "\n",
    "browser.quit()\n"
   ]
  },
  {
   "cell_type": "code",
   "execution_count": null,
   "metadata": {},
   "outputs": [],
   "source": []
  },
  {
   "cell_type": "markdown",
   "metadata": {},
   "source": [
    "### Mars Hemispheres"
   ]
  },
  {
   "cell_type": "code",
   "execution_count": null,
   "metadata": {},
   "outputs": [],
   "source": [
    "# Visit the USGS Astrogeology site here to obtain high resolution images \n",
    "# for each of Mar's hemispheres.\n",
    "\n",
    "# You will need to click each of the links to the hemispheres in order to \n",
    "# find the image url to the full resolution image.\n",
    "\n",
    "\n",
    "# Save both the image url string for the full resolution hemisphere image, \n",
    "# and the Hemisphere title containing the hemisphere name. \n",
    "# Use a Python dictionary to store the data using the keys img_url and title.\n",
    "\n",
    "\n",
    "# Append the dictionary with the image url string and the hemisphere title to a list. \n",
    "# This list will contain one dictionary for each hemisphere."
   ]
  },
  {
   "cell_type": "code",
   "execution_count": null,
   "metadata": {},
   "outputs": [],
   "source": []
  }
 ],
 "metadata": {
  "kernelspec": {
   "display_name": "Python 3",
   "language": "python",
   "name": "python3"
  },
  "language_info": {
   "codemirror_mode": {
    "name": "ipython",
    "version": 3
   },
   "file_extension": ".py",
   "mimetype": "text/x-python",
   "name": "python",
   "nbconvert_exporter": "python",
   "pygments_lexer": "ipython3",
   "version": "3.8.5"
  }
 },
 "nbformat": 4,
 "nbformat_minor": 4
}
